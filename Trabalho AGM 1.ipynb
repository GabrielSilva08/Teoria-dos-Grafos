{
 "cells": [
  {
   "cell_type": "markdown",
   "id": "27311079",
   "metadata": {},
   "source": [
    "# Trabalho de grafos"
   ]
  },
  {
   "cell_type": "markdown",
   "id": "fcb76dc3",
   "metadata": {},
   "source": [
    "Jupyter criado com o intuito de passar o código escrito em C++ para Python. Com isso, será possível rodar as instâncias dos 4 grafos."
   ]
  },
  {
   "cell_type": "markdown",
   "id": "f1ba9d00",
   "metadata": {},
   "source": [
    "## Código em Python:"
   ]
  },
  {
   "cell_type": "code",
   "execution_count": 9,
   "id": "ebfb65fe",
   "metadata": {},
   "outputs": [
    {
     "name": "stdout",
     "output_type": "stream",
     "text": [
      "[(1, 4, 1), (1, 2, 3), (4, 6, 3), (2, 5, 4), (3, 4, 4)]\n",
      "4\n",
      "Peso da AGM: 15\n"
     ]
    }
   ],
   "source": [
    "if __name__ == \"__main__\":\n",
    "    m = 0 # Nº de arestas\n",
    "    j = 0\n",
    "    peso = 0\n",
    "    G = []\n",
    "    AGM = []\n",
    "    Grafo = open(\"grafo_teste.txt\", \"r\", encoding = \"utf8\")\n",
    "    AGM_teste = open(\"AGM_teste.txt\", \"w\", encoding = \"utf8\")\n",
    "    N = int(Grafo.readline()) # Leitura do número de vértices.\n",
    "    Neighboor = [x*0 for x in range(N+1)] # Inicialização do vetor de cardinalidades com zero.\n",
    "    while True: # Leitura das arestas e seus respectivos pesos.\n",
    "        aux = Grafo.readline()\n",
    "        if not aux:\n",
    "            break\n",
    "        m += 1\n",
    "        v1 = int(aux.split(\" \")[0]) \n",
    "        v2 = int(aux.split(\" \")[1])\n",
    "        P = int(aux.split(\" \")[2])\n",
    "        G.append(tuple([v1, v2, P])) # Inserção das arestas e seus pesos.\n",
    "    G.sort(key = lambda x:x[2]) # Ordenação do grafo com respeito ao peso P.\n",
    "    for i in range(m): # Inserção das arestas na AGM\n",
    "        AGM.append(G[i])\n",
    "        Neighboor[G[i][0]] += 1 # Atualiazação das cardinalidades\n",
    "        Neighboor[G[i][1]] += 1\n",
    "        if Neighboor[AGM[j][0]] == 1 or Neighboor[AGM[j][1]] == 1: # Verificação se um dos vértices é folha\n",
    "            peso += AGM[j][2]\n",
    "            j += 1\n",
    "        else:\n",
    "            AGM.pop()\n",
    "            Neighboor[G[i][0]] -= 1\n",
    "            Neighboor[G[i][1]] -= 1\n",
    "    AGM_teste.write(\"{}\\n\".format(N))\n",
    "    for k in range(len(AGM)): # Impressão das arestas\n",
    "        AGM_teste.write(\"{} {} {}\\n\".format(AGM[k][0], AGM[k][1], AGM[k][2]))\n",
    "    print(AGM)\n",
    "    print(AGM[0][1])\n",
    "    print(\"Peso da AGM: \" + str(peso))\n",
    "    Grafo.close()\n",
    "    AGM_teste.close()"
   ]
  },
  {
   "cell_type": "markdown",
   "id": "57e73c99",
   "metadata": {},
   "source": [
    "## Grafo 1:"
   ]
  },
  {
   "cell_type": "markdown",
   "id": "1180315d",
   "metadata": {},
   "source": [
    "grafo_1.txt"
   ]
  },
  {
   "cell_type": "code",
   "execution_count": 11,
   "id": "b5ca2daf",
   "metadata": {},
   "outputs": [
    {
     "name": "stdout",
     "output_type": "stream",
     "text": [
      "Peso da AGM: 1624.8499999999997\n"
     ]
    }
   ],
   "source": [
    "if __name__ == \"__main__\":\n",
    "    m = 0 # Nº de arestas\n",
    "    j = 0\n",
    "    peso = 0\n",
    "    G = []\n",
    "    AGM = []\n",
    "    Grafo = open(\"grafo_1.txt\", \"r\", encoding = \"utf8\")\n",
    "    AGM_teste = open(\"AGM_1.txt\", \"w\", encoding = \"utf8\")\n",
    "    N = int(Grafo.readline()) # Leitura do número de vértices.\n",
    "    Neighboor = [x*0 for x in range(N+1)] # Inicialização do vetor de cardinalidades com zero.\n",
    "    while True: # Leitura das arestas e seus respectivos pesos.\n",
    "        aux = Grafo.readline()\n",
    "        if not aux:\n",
    "            break\n",
    "        m += 1\n",
    "        v1 = int(aux.split(\" \")[0]) \n",
    "        v2 = int(aux.split(\" \")[1])\n",
    "        P = float(aux.split(\" \")[2])\n",
    "        G.append(tuple([v1, v2, P])) # Inserção das arestas e seus pesos.\n",
    "    G.sort(key = lambda x:x[2]) # Ordenação do grafo com respeito ao peso P.\n",
    "    for i in range(m): # Inserção das arestas na AGM\n",
    "        AGM.append(G[i])\n",
    "        Neighboor[G[i][0]] += 1 # Atualiazação das cardinalidades\n",
    "        Neighboor[G[i][1]] += 1\n",
    "        if Neighboor[AGM[j][0]] == 1 or Neighboor[AGM[j][1]] == 1: # Verificação se um dos vértices é folha\n",
    "            peso += AGM[j][2]\n",
    "            j += 1\n",
    "        else:\n",
    "            AGM.pop()\n",
    "            Neighboor[G[i][0]] -= 1\n",
    "            Neighboor[G[i][1]] -= 1\n",
    "    AGM_teste.write(\"{}\\n\".format(N))\n",
    "    for k in range(len(AGM)): # Impressão das arestas\n",
    "        AGM_teste.write(\"{} {} {}\\n\".format(AGM[k][0], AGM[k][1], AGM[k][2]))\n",
    "    print(\"Peso da AGM: \" + str(peso))\n",
    "    Grafo.close()\n",
    "    AGM_teste.close()"
   ]
  },
  {
   "cell_type": "markdown",
   "id": "94de3c59",
   "metadata": {},
   "source": [
    "AGM: AGM_1.txt\n",
    "Peso: 1624.85"
   ]
  },
  {
   "cell_type": "markdown",
   "id": "10e7b801",
   "metadata": {},
   "source": [
    "## Grafo 2:"
   ]
  },
  {
   "cell_type": "markdown",
   "id": "b2e7485b",
   "metadata": {},
   "source": [
    "grafo_2.txt"
   ]
  },
  {
   "cell_type": "code",
   "execution_count": 13,
   "id": "c4eb1ca1",
   "metadata": {},
   "outputs": [
    {
     "name": "stdout",
     "output_type": "stream",
     "text": [
      "Peso da AGM: 16127.569999999743\n"
     ]
    }
   ],
   "source": [
    "if __name__ == \"__main__\":\n",
    "    m = 0 # Nº de arestas\n",
    "    j = 0\n",
    "    peso = 0\n",
    "    G = []\n",
    "    AGM = []\n",
    "    Grafo = open(\"grafo_2.txt\", \"r\", encoding = \"utf8\")\n",
    "    AGM_teste = open(\"AGM_2.txt\", \"w\", encoding = \"utf8\")\n",
    "    N = int(Grafo.readline()) # Leitura do número de vértices.\n",
    "    Neighboor = [x*0 for x in range(N+1)] # Inicialização do vetor de cardinalidades com zero.\n",
    "    while True: # Leitura das arestas e seus respectivos pesos.\n",
    "        aux = Grafo.readline()\n",
    "        if not aux:\n",
    "            break\n",
    "        m += 1\n",
    "        v1 = int(aux.split(\" \")[0]) \n",
    "        v2 = int(aux.split(\" \")[1])\n",
    "        P = float(aux.split(\" \")[2])\n",
    "        G.append(tuple([v1, v2, P])) # Inserção das arestas e seus pesos.\n",
    "    G.sort(key = lambda x:x[2]) # Ordenação do grafo com respeito ao peso P.\n",
    "    for i in range(m): # Inserção das arestas na AGM\n",
    "        AGM.append(G[i])\n",
    "        Neighboor[G[i][0]] += 1 # Atualiazação das cardinalidades\n",
    "        Neighboor[G[i][1]] += 1\n",
    "        if Neighboor[AGM[j][0]] == 1 or Neighboor[AGM[j][1]] == 1: # Verificação se um dos vértices é folha\n",
    "            peso += AGM[j][2]\n",
    "            j += 1\n",
    "        else:\n",
    "            AGM.pop()\n",
    "            Neighboor[G[i][0]] -= 1\n",
    "            Neighboor[G[i][1]] -= 1\n",
    "    AGM_teste.write(\"{}\\n\".format(N))\n",
    "    for k in range(len(AGM)): # Impressão das arestas\n",
    "        AGM_teste.write(\"{} {} {}\\n\".format(AGM[k][0], AGM[k][1], AGM[k][2]))\n",
    "    print(\"Peso da AGM: \" + str(peso))\n",
    "    Grafo.close()\n",
    "    AGM_teste.close()"
   ]
  },
  {
   "cell_type": "markdown",
   "id": "64588f6f",
   "metadata": {},
   "source": [
    "AGM: AGM_2.txt\n",
    "Peso: 16127.57"
   ]
  },
  {
   "cell_type": "markdown",
   "id": "d8f686b9",
   "metadata": {},
   "source": [
    "## Grafo 3:"
   ]
  },
  {
   "cell_type": "markdown",
   "id": "0198aed3",
   "metadata": {},
   "source": [
    "grafo_3.txt"
   ]
  },
  {
   "cell_type": "code",
   "execution_count": 15,
   "id": "666b0ccd",
   "metadata": {},
   "outputs": [
    {
     "name": "stdout",
     "output_type": "stream",
     "text": [
      "Peso da AGM: 161271.06000003338\n"
     ]
    }
   ],
   "source": [
    "if __name__ == \"__main__\":\n",
    "    m = 0 # Nº de arestas\n",
    "    j = 0\n",
    "    peso = 0\n",
    "    G = []\n",
    "    AGM = []\n",
    "    Grafo = open(\"grafo_3.txt\", \"r\", encoding = \"utf8\")\n",
    "    AGM_teste = open(\"AGM_3.txt\", \"w\", encoding = \"utf8\")\n",
    "    N = int(Grafo.readline()) # Leitura do número de vértices.\n",
    "    Neighboor = [x*0 for x in range(N+1)] # Inicialização do vetor de cardinalidades com zero.\n",
    "    while True: # Leitura das arestas e seus respectivos pesos.\n",
    "        aux = Grafo.readline()\n",
    "        if not aux:\n",
    "            break\n",
    "        m += 1\n",
    "        v1 = int(aux.split(\" \")[0]) \n",
    "        v2 = int(aux.split(\" \")[1])\n",
    "        P = float(aux.split(\" \")[2])\n",
    "        G.append(tuple([v1, v2, P])) # Inserção das arestas e seus pesos.\n",
    "    G.sort(key = lambda x:x[2]) # Ordenação do grafo com respeito ao peso P.\n",
    "    for i in range(m): # Inserção das arestas na AGM\n",
    "        AGM.append(G[i])\n",
    "        Neighboor[G[i][0]] += 1 # Atualiazação das cardinalidades\n",
    "        Neighboor[G[i][1]] += 1\n",
    "        if Neighboor[AGM[j][0]] == 1 or Neighboor[AGM[j][1]] == 1: # Verificação se um dos vértices é folha\n",
    "            peso += AGM[j][2]\n",
    "            j += 1\n",
    "        else:\n",
    "            AGM.pop()\n",
    "            Neighboor[G[i][0]] -= 1\n",
    "            Neighboor[G[i][1]] -= 1\n",
    "    AGM_teste.write(\"{}\\n\".format(N))\n",
    "    for k in range(len(AGM)): # Impressão das arestas\n",
    "        AGM_teste.write(\"{} {} {}\\n\".format(AGM[k][0], AGM[k][1], AGM[k][2]))\n",
    "    print(\"Peso da AGM: \" + str(peso))\n",
    "    Grafo.close()\n",
    "    AGM_teste.close()"
   ]
  },
  {
   "cell_type": "markdown",
   "id": "0f009d78",
   "metadata": {},
   "source": [
    "AGM: AGM_3.txt\n",
    "Peso: 161271.06"
   ]
  },
  {
   "cell_type": "markdown",
   "id": "441417cf",
   "metadata": {},
   "source": [
    "## Grafo 4:"
   ]
  },
  {
   "cell_type": "markdown",
   "id": "57f8c39e",
   "metadata": {},
   "source": [
    "grafo_4.txt"
   ]
  },
  {
   "cell_type": "code",
   "execution_count": 16,
   "id": "3bd17cd4",
   "metadata": {},
   "outputs": [
    {
     "name": "stdout",
     "output_type": "stream",
     "text": [
      "Peso da AGM: 3344895.760002278\n"
     ]
    }
   ],
   "source": [
    "if __name__ == \"__main__\":\n",
    "    m = 0 # Nº de arestas\n",
    "    j = 0\n",
    "    peso = 0\n",
    "    G = []\n",
    "    AGM = []\n",
    "    Grafo = open(\"grafo_4.txt\", \"r\", encoding = \"utf8\")\n",
    "    AGM_teste = open(\"AGM_4.txt\", \"w\", encoding = \"utf8\")\n",
    "    N = int(Grafo.readline()) # Leitura do número de vértices.\n",
    "    Neighboor = [x*0 for x in range(N+1)] # Inicialização do vetor de cardinalidades com zero.\n",
    "    while True: # Leitura das arestas e seus respectivos pesos.\n",
    "        aux = Grafo.readline()\n",
    "        if not aux:\n",
    "            break\n",
    "        m += 1\n",
    "        v1 = int(aux.split(\" \")[0]) \n",
    "        v2 = int(aux.split(\" \")[1])\n",
    "        P = float(aux.split(\" \")[2])\n",
    "        G.append(tuple([v1, v2, P])) # Inserção das arestas e seus pesos.\n",
    "    G.sort(key = lambda x:x[2]) # Ordenação do grafo com respeito ao peso P.\n",
    "    for i in range(m): # Inserção das arestas na AGM\n",
    "        AGM.append(G[i])\n",
    "        Neighboor[G[i][0]] += 1 # Atualiazação das cardinalidades\n",
    "        Neighboor[G[i][1]] += 1\n",
    "        if Neighboor[AGM[j][0]] == 1 or Neighboor[AGM[j][1]] == 1: # Verificação se um dos vértices é folha\n",
    "            peso += AGM[j][2]\n",
    "            j += 1\n",
    "        else:\n",
    "            AGM.pop()\n",
    "            Neighboor[G[i][0]] -= 1\n",
    "            Neighboor[G[i][1]] -= 1\n",
    "    AGM_teste.write(\"{}\\n\".format(N))\n",
    "    for k in range(len(AGM)): # Impressão das arestas\n",
    "        AGM_teste.write(\"{} {} {}\\n\".format(AGM[k][0], AGM[k][1], AGM[k][2]))\n",
    "    print(\"Peso da AGM: \" + str(peso))\n",
    "    Grafo.close()\n",
    "    AGM_teste.close()"
   ]
  },
  {
   "cell_type": "markdown",
   "id": "ead06fd7",
   "metadata": {},
   "source": [
    "AGM: AGM_4.txt\n",
    "Peso: 3344895.76"
   ]
  }
 ],
 "metadata": {
  "kernelspec": {
   "display_name": "Python 3 (ipykernel)",
   "language": "python",
   "name": "python3"
  },
  "language_info": {
   "codemirror_mode": {
    "name": "ipython",
    "version": 3
   },
   "file_extension": ".py",
   "mimetype": "text/x-python",
   "name": "python",
   "nbconvert_exporter": "python",
   "pygments_lexer": "ipython3",
   "version": "3.9.12"
  }
 },
 "nbformat": 4,
 "nbformat_minor": 5
}
